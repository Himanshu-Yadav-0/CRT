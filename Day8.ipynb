{
 "cells": [
  {
   "cell_type": "code",
   "execution_count": 28,
   "metadata": {},
   "outputs": [
    {
     "name": "stdout",
     "output_type": "stream",
     "text": [
      "[1, 2, 3, 4, 5]\n",
      "[4, 5, 1, 2, 3]\n"
     ]
    }
   ],
   "source": [
    "class Solution(object):\n",
    "    def rotate(self, nums, k):\n",
    "        \"\"\"\n",
    "        :type nums: List[int]\n",
    "        :type k: int\n",
    "        :rtype: None Do not return anything, modify nums in-place instead.\n",
    "        \"\"\"\n",
    "        # O(n*k)\n",
    "        # for i in range(k):\n",
    "        #     temp = nums[-1]\n",
    "        #     for j in range(len(nums)-1,0,-1):\n",
    "        #         nums[j] = nums[j-1]\n",
    "        #     nums[0] = temp\n",
    "\n",
    "        #O(n)\n",
    "        n = len(nums)\n",
    "        k = k % n  # Handle k > n\n",
    "\n",
    "        # Step 1: Reverse the entire array\n",
    "        start, end = 0, n - 1\n",
    "        while start < end:\n",
    "            nums[start], nums[end] = nums[end], nums[start]\n",
    "            start += 1\n",
    "            end -= 1\n",
    "\n",
    "        # Step 2: Reverse the first k elements\n",
    "        start, end = 0, k - 1\n",
    "        while start < end:\n",
    "            nums[start], nums[end] = nums[end], nums[start]\n",
    "            start += 1\n",
    "            end -= 1\n",
    "\n",
    "        # Step 3: Reverse the last n - k elements\n",
    "        start, end = k, n - 1\n",
    "        while start < end:\n",
    "            nums[start], nums[end] = nums[end], nums[start]\n",
    "            start += 1\n",
    "            end -= 1\n",
    "\n",
    "\n",
    "         \n",
    "\n",
    "\n",
    "\n",
    "nums = [1,2,3,4,5]\n",
    "k = 7\n",
    "result = Solution()\n",
    "print(nums)\n",
    "result.rotate(nums,k)\n",
    "print(nums)\n",
    "        \n",
    "        "
   ]
  },
  {
   "cell_type": "code",
   "execution_count": 32,
   "metadata": {},
   "outputs": [
    {
     "name": "stdout",
     "output_type": "stream",
     "text": [
      "-1\n"
     ]
    }
   ],
   "source": [
    "def secondMax(arr):\n",
    "    maximum = arr[0]\n",
    "    secondMax= -1\n",
    "    for i in range(len(arr)):\n",
    "        if arr[i]>maximum:\n",
    "            secondMax = maximum\n",
    "            maximum = arr[i]\n",
    "        if arr[i]>secondMax and arr[i]<maximum:\n",
    "            secondMax = arr[i]\n",
    "    return secondMax\n",
    "\n",
    "arr = [9,9,9,9,9,9]\n",
    "print(secondMax(arr))\n"
   ]
  },
  {
   "cell_type": "code",
   "execution_count": null,
   "metadata": {},
   "outputs": [],
   "source": []
  }
 ],
 "metadata": {
  "kernelspec": {
   "display_name": "venv",
   "language": "python",
   "name": "python3"
  },
  "language_info": {
   "codemirror_mode": {
    "name": "ipython",
    "version": 3
   },
   "file_extension": ".py",
   "mimetype": "text/x-python",
   "name": "python",
   "nbconvert_exporter": "python",
   "pygments_lexer": "ipython3",
   "version": "3.13.2"
  }
 },
 "nbformat": 4,
 "nbformat_minor": 2
}
