{
 "cells": [
  {
   "cell_type": "code",
   "execution_count": null,
   "metadata": {},
   "outputs": [
    {
     "name": "stdout",
     "output_type": "stream",
     "text": [
      "Adding Karan in db\n",
      "Karan\n",
      "Adding HImanshu in db\n",
      "HImanshu\n",
      "Welcome HImanshu\n"
     ]
    }
   ],
   "source": [
    "class Student:\n",
    "    def __init__(self,full_name=None):\n",
    "        self.full_name = full_name\n",
    "        print(f\"Adding {full_name} in db\")\n",
    "    # @staticmethod\n",
    "    def hello(self):\n",
    "        return f\"Welcome {self.full_name}\"\n",
    "\n",
    "\n",
    "s1 = Student(\"Karan\")\n",
    "print(s1.full_name)\n",
    "s2 = Student(\"HImanshu\")\n",
    "print(s2.full_name)\n",
    "print(s2.hello())"
   ]
  },
  {
   "cell_type": "code",
   "execution_count": 39,
   "metadata": {},
   "outputs": [
    {
     "name": "stdout",
     "output_type": "stream",
     "text": [
      "1234\n",
      "Himanshu\n"
     ]
    }
   ],
   "source": [
    "class Account:\n",
    "    def __init__(self,acc_no,acc_pass):\n",
    "        self.acc_no = acc_no\n",
    "        self.__acc_pass = acc_pass\n",
    "    \n",
    "    def reset_pass(self):\n",
    "        return self.__acc_pass\n",
    "\n",
    "acc1 = Account(1234,\"Himanshu\")\n",
    "print(acc1.acc_no)\n",
    "print(acc1.reset_pass())\n",
    "        "
   ]
  },
  {
   "cell_type": "code",
   "execution_count": 40,
   "metadata": {},
   "outputs": [
    {
     "name": "stdout",
     "output_type": "stream",
     "text": [
      "isha\n"
     ]
    }
   ],
   "source": [
    "class Person:\n",
    "    __name = \"isha\"\n",
    "    \n",
    "    def __hello(self):\n",
    "        print(self.__name)\n",
    "\n",
    "    def welcome(self):\n",
    "        self.__hello()\n",
    "\n",
    "\n",
    "p1 = Person()\n",
    "p1.welcome()"
   ]
  },
  {
   "cell_type": "code",
   "execution_count": null,
   "metadata": {},
   "outputs": [],
   "source": []
  }
 ],
 "metadata": {
  "kernelspec": {
   "display_name": "venv",
   "language": "python",
   "name": "python3"
  },
  "language_info": {
   "codemirror_mode": {
    "name": "ipython",
    "version": 3
   },
   "file_extension": ".py",
   "mimetype": "text/x-python",
   "name": "python",
   "nbconvert_exporter": "python",
   "pygments_lexer": "ipython3",
   "version": "3.13.2"
  }
 },
 "nbformat": 4,
 "nbformat_minor": 2
}
