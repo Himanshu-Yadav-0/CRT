{
 "cells": [
  {
   "cell_type": "code",
   "execution_count": 2,
   "metadata": {},
   "outputs": [],
   "source": [
    "def countOnes(arr):\n",
    "    max_count = 0\n",
    "    count = 0\n",
    "    for i in range(len(arr)):\n",
    "        if arr[i]  == 0:\n",
    "            count = 0\n",
    "        else: count+=1\n",
    "        max_count = max(max_count,count)\n",
    "    return max_count\n",
    "\n"
   ]
  },
  {
   "cell_type": "code",
   "execution_count": 5,
   "metadata": {},
   "outputs": [
    {
     "name": "stdout",
     "output_type": "stream",
     "text": [
      "4\n"
     ]
    }
   ],
   "source": [
    "arr = [1,1,1,1,0,0,1,1,1,0]\n",
    "print(countOnes(arr))"
   ]
  },
  {
   "cell_type": "code",
   "execution_count": 6,
   "metadata": {},
   "outputs": [],
   "source": [
    "def maxChar(str):\n",
    "    max_count = 0\n",
    "    count = 0\n",
    "    for i in range(len(str)):\n",
    "        char = str[i]\n",
    "        for j in range(len(str)):\n",
    "            if char == str[j]:\n",
    "                count +=1\n",
    "        max_count = max(count,max_count)\n",
    "        count = 0\n",
    "    return max_count\n",
    "\n"
   ]
  },
  {
   "cell_type": "code",
   "execution_count": 8,
   "metadata": {},
   "outputs": [
    {
     "name": "stdout",
     "output_type": "stream",
     "text": [
      "8\n"
     ]
    }
   ],
   "source": [
    "str = \"ishiiiiiii\"\n",
    "print(maxChar(str))"
   ]
  },
  {
   "cell_type": "code",
   "execution_count": null,
   "metadata": {},
   "outputs": [],
   "source": []
  }
 ],
 "metadata": {
  "kernelspec": {
   "display_name": "venv",
   "language": "python",
   "name": "python3"
  },
  "language_info": {
   "codemirror_mode": {
    "name": "ipython",
    "version": 3
   },
   "file_extension": ".py",
   "mimetype": "text/x-python",
   "name": "python",
   "nbconvert_exporter": "python",
   "pygments_lexer": "ipython3",
   "version": "3.13.2"
  }
 },
 "nbformat": 4,
 "nbformat_minor": 2
}
