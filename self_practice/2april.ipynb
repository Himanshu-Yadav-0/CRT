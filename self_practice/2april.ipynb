{
 "cells": [
  {
   "cell_type": "code",
   "execution_count": 7,
   "metadata": {},
   "outputs": [
    {
     "name": "stdout",
     "output_type": "stream",
     "text": [
      "[5, 6, 1, 2, 3, 4]\n"
     ]
    }
   ],
   "source": [
    "def rotateKtimes(arr,k):\n",
    "    n = len(arr)\n",
    "    start = 0\n",
    "    end = n-1\n",
    "    k= k%n\n",
    "    while start<end:\n",
    "        arr[start],arr[end] = arr[end],arr[start]\n",
    "        start+=1\n",
    "        end-=1\n",
    "\n",
    "    start,end = 0 , k-1\n",
    "\n",
    "    while start<end:\n",
    "        arr[start],arr[end] = arr[end],arr[start]\n",
    "        start+=1\n",
    "        end-=1\n",
    "\n",
    "    start ,end = k,n-1\n",
    "    while start<end:\n",
    "        arr[start],arr[end] = arr[end],arr[start]\n",
    "        start+=1\n",
    "        end-=1\n",
    "    print(arr)\n",
    "rotateKtimes([1,2,3,4,5,6],2)\n",
    "\n",
    "    \n"
   ]
  },
  {
   "cell_type": "code",
   "execution_count": 21,
   "metadata": {},
   "outputs": [
    {
     "name": "stdout",
     "output_type": "stream",
     "text": [
      "[1, 2, 3, 4, 5]\n"
     ]
    }
   ],
   "source": [
    "def unionTwoSortedArrays(a,b):\n",
    "    n = len(a)\n",
    "    m = len(b)\n",
    "    i,j =0,0\n",
    "    result = []\n",
    "    last = None\n",
    "    while i<n and j < m:\n",
    "        if a[i]<b[j]:\n",
    "            if last is None or a[i]!=last:\n",
    "                result.append(a[i])\n",
    "                last = a[i]\n",
    "            i+=1\n",
    "        elif a[i]>b[j]:\n",
    "            if last is None or b[j]!=last:\n",
    "                result.append(b[j])\n",
    "                last = b[j]\n",
    "            j+=1\n",
    "        else:\n",
    "            if last is None or a[i]!=last:\n",
    "                result.append(a[i])\n",
    "                last = a[i]\n",
    "            i+=1\n",
    "            j+=1\n",
    "    while i<n:\n",
    "        if last is None or a[i] != last:\n",
    "            result.append(a[i])\n",
    "            last = a[i]\n",
    "            i+=1\n",
    "    while j<m:\n",
    "        if last is None or b[j] != last:\n",
    "            result.append(b[j])\n",
    "            last = b[j]\n",
    "            j+=1\n",
    "    return result\n",
    "    \n",
    "\n",
    "print(unionTwoSortedArrays([2,2,3,4,5],[1,1,2,3,4]))\n",
    "\n",
    "\n",
    "        "
   ]
  },
  {
   "cell_type": "code",
   "execution_count": 31,
   "metadata": {},
   "outputs": [
    {
     "name": "stdout",
     "output_type": "stream",
     "text": [
      "4\n"
     ]
    }
   ],
   "source": [
    "def singleNumber(nums: list[int]) -> int:\n",
    "    # n = len(nums)\n",
    "    # if n ==1:\n",
    "    #     return nums[0]\n",
    "    # for i in range(n):\n",
    "    #     count = 0\n",
    "    #     for j in range(n):\n",
    "    #         if i != j and nums[j] == nums[i]:\n",
    "    #             count +=1\n",
    "    #     if count ==0:\n",
    "    #         return nums[i]\n",
    "        \n",
    "    # return -1\n",
    "    result = 0\n",
    "    for i in nums:\n",
    "        result = result^i\n",
    "    return result\n",
    "\n",
    "nums = [4,1,2,1,2]\n",
    "print(singleNumber(nums))\n",
    "            "
   ]
  },
  {
   "cell_type": "code",
   "execution_count": null,
   "metadata": {},
   "outputs": [],
   "source": []
  }
 ],
 "metadata": {
  "kernelspec": {
   "display_name": "venv",
   "language": "python",
   "name": "python3"
  },
  "language_info": {
   "codemirror_mode": {
    "name": "ipython",
    "version": 3
   },
   "file_extension": ".py",
   "mimetype": "text/x-python",
   "name": "python",
   "nbconvert_exporter": "python",
   "pygments_lexer": "ipython3",
   "version": "3.13.2"
  }
 },
 "nbformat": 4,
 "nbformat_minor": 2
}
