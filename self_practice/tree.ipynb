{
 "cells": [
  {
   "cell_type": "markdown",
   "id": "db182224",
   "metadata": {},
   "source": [
    "# tree sikh rha hu"
   ]
  },
  {
   "cell_type": "code",
   "execution_count": null,
   "id": "69fe582e",
   "metadata": {
    "vscode": {
     "languageId": "plaintext"
    }
   },
   "outputs": [],
   "source": []
  }
 ],
 "metadata": {
  "language_info": {
   "name": "python"
  }
 },
 "nbformat": 4,
 "nbformat_minor": 5
}
