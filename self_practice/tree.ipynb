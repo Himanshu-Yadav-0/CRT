{
 "cells": [
  {
   "cell_type": "markdown",
   "id": "db182224",
   "metadata": {},
   "source": [
    "# tree sikh rha hu"
   ]
  },
  {
   "cell_type": "code",
   "execution_count": 14,
   "id": "8b792d0a",
   "metadata": {},
   "outputs": [],
   "source": [
    "class TreeNode:\n",
    "    def __init__(self,data):\n",
    "        self.data = data\n",
    "        self.children = []\n",
    "        self.parent = None\n",
    "\n",
    "    def add_child(self,child):\n",
    "        child.parent = self\n",
    "        self.children.append(child)\n",
    "    def print_tree(self):\n",
    "        print(self.data)\n",
    "        for child in self.children:\n",
    "            child.print_tree()\n",
    "    \n",
    "    def get_level(self):\n",
    "        level = 0\n",
    "        p = self.parent\n",
    "        while p:\n",
    "            level+=1\n",
    "            p = p.parent\n",
    "        return level"
   ]
  },
  {
   "cell_type": "code",
   "execution_count": 17,
   "id": "83968d04",
   "metadata": {},
   "outputs": [],
   "source": [
    "\n",
    "def build_product_tree():\n",
    "        root = TreeNode(\"Electronics\")\n",
    "        laptop = TreeNode(\"Laptop\")\n",
    "        root.add_child(laptop)\n",
    "        laptop.get_level()\n",
    "        return root\n"
   ]
  },
  {
   "cell_type": "code",
   "execution_count": 18,
   "id": "6c2ede27",
   "metadata": {},
   "outputs": [
    {
     "name": "stdout",
     "output_type": "stream",
     "text": [
      "Electronics\n",
      "Laptop\n"
     ]
    },
    {
     "data": {
      "text/plain": [
       "0"
      ]
     },
     "execution_count": 18,
     "metadata": {},
     "output_type": "execute_result"
    }
   ],
   "source": [
    "root = build_product_tree()\n",
    "root.print_tree()\n",
    "root.get_level()"
   ]
  },
  {
   "cell_type": "code",
   "execution_count": null,
   "id": "4a843745",
   "metadata": {},
   "outputs": [],
   "source": []
  }
 ],
 "metadata": {
  "kernelspec": {
   "display_name": "venv",
   "language": "python",
   "name": "python3"
  },
  "language_info": {
   "codemirror_mode": {
    "name": "ipython",
    "version": 3
   },
   "file_extension": ".py",
   "mimetype": "text/x-python",
   "name": "python",
   "nbconvert_exporter": "python",
   "pygments_lexer": "ipython3",
   "version": "3.13.2"
  }
 },
 "nbformat": 4,
 "nbformat_minor": 5
}
