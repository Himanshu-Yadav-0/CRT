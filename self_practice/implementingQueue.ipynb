{
 "cells": [
  {
   "cell_type": "code",
   "execution_count": 1,
   "id": "a47a68ff",
   "metadata": {},
   "outputs": [],
   "source": [
    "class Node:\n",
    "    def __init__(self,val):\n",
    "        self.val = val\n",
    "        self.next = None "
   ]
  },
  {
   "cell_type": "code",
   "execution_count": 27,
   "id": "7a836652",
   "metadata": {},
   "outputs": [],
   "source": [
    "class Queue:\n",
    "\n",
    "    def __init__(self):\n",
    "        self.front = None\n",
    "        self.rear = None\n",
    "    def enqueue(self,val):\n",
    "        new_node = Node(val)\n",
    "        if self.rear == None:\n",
    "            self.front = new_node\n",
    "            self.rear = self.front\n",
    "        else:\n",
    "            self.rear.next = new_node\n",
    "            self.rear = new_node\n",
    "    def dequeue(self):\n",
    "        if self.front == None:\n",
    "            return \"Empty\"\n",
    "        else:\n",
    "            temp = self.front\n",
    "            self.front = self.front.next\n",
    "            return temp.val\n",
    "    def traverse(self):\n",
    "        temp = self.front\n",
    "        while temp:\n",
    "            print(temp.val)\n",
    "            temp = temp.next\n",
    "    def is_empty(self):\n",
    "        if self.front == None:\n",
    "            return \"Empty\"\n",
    "    def size(self):\n",
    "        temp = self.front\n",
    "        count = 0\n",
    "        while temp:\n",
    "            count+=1\n",
    "            temp = temp.next\n",
    "        return count\n",
    "    def peek_front(self):\n",
    "        if self.front is None:\n",
    "            return \"Empty\"\n",
    "        else:\n",
    "            return self.front.val\n",
    "    def peek_rear(self):\n",
    "        if self.rear is None:\n",
    "            return \"Empty\"\n",
    "        else:\n",
    "            return self.rear.val\n",
    "            \n"
   ]
  },
  {
   "cell_type": "code",
   "execution_count": 28,
   "id": "ac1e9686",
   "metadata": {},
   "outputs": [
    {
     "name": "stdout",
     "output_type": "stream",
     "text": [
      "4\n",
      "5\n",
      "7\n"
     ]
    }
   ],
   "source": [
    "q = Queue()\n",
    "q.enqueue(4)\n",
    "q.enqueue(5)\n",
    "q.enqueue(7)\n",
    "\n",
    "q.traverse()"
   ]
  },
  {
   "cell_type": "code",
   "execution_count": 29,
   "id": "ae48389d",
   "metadata": {},
   "outputs": [],
   "source": [
    "c = q.dequeue()\n"
   ]
  },
  {
   "cell_type": "code",
   "execution_count": 30,
   "id": "68d50743",
   "metadata": {},
   "outputs": [
    {
     "name": "stdout",
     "output_type": "stream",
     "text": [
      "5\n",
      "7\n"
     ]
    }
   ],
   "source": [
    "q.traverse()"
   ]
  },
  {
   "cell_type": "code",
   "execution_count": 31,
   "id": "914bc810",
   "metadata": {},
   "outputs": [
    {
     "data": {
      "text/plain": [
       "4"
      ]
     },
     "execution_count": 31,
     "metadata": {},
     "output_type": "execute_result"
    }
   ],
   "source": [
    "c"
   ]
  },
  {
   "cell_type": "code",
   "execution_count": 32,
   "id": "2cbc580b",
   "metadata": {},
   "outputs": [
    {
     "data": {
      "text/plain": [
       "2"
      ]
     },
     "execution_count": 32,
     "metadata": {},
     "output_type": "execute_result"
    }
   ],
   "source": [
    "q.size()"
   ]
  },
  {
   "cell_type": "code",
   "execution_count": 33,
   "id": "16667fe0",
   "metadata": {},
   "outputs": [
    {
     "data": {
      "text/plain": [
       "5"
      ]
     },
     "execution_count": 33,
     "metadata": {},
     "output_type": "execute_result"
    }
   ],
   "source": [
    "q.peek_front()"
   ]
  },
  {
   "cell_type": "code",
   "execution_count": 34,
   "id": "ad36459d",
   "metadata": {},
   "outputs": [
    {
     "data": {
      "text/plain": [
       "7"
      ]
     },
     "execution_count": 34,
     "metadata": {},
     "output_type": "execute_result"
    }
   ],
   "source": [
    "q.peek_rear()"
   ]
  },
  {
   "cell_type": "code",
   "execution_count": 35,
   "id": "9877952f",
   "metadata": {},
   "outputs": [],
   "source": [
    "q1 = Queue()"
   ]
  },
  {
   "cell_type": "code",
   "execution_count": 36,
   "id": "bc217f23",
   "metadata": {},
   "outputs": [
    {
     "data": {
      "text/plain": [
       "'Empty'"
      ]
     },
     "execution_count": 36,
     "metadata": {},
     "output_type": "execute_result"
    }
   ],
   "source": [
    "q1.is_empty()"
   ]
  },
  {
   "cell_type": "code",
   "execution_count": 37,
   "id": "cc9d20ab",
   "metadata": {},
   "outputs": [],
   "source": [
    "class MyQueue:\n",
    "\n",
    "    def __init__(self):\n",
    "        self.s1 = []\n",
    "        self.s2 = []\n",
    "\n",
    "    def push(self, x: int) -> None:\n",
    "        self.s1.append(x)\n",
    "\n",
    "    def pop(self) -> int:\n",
    "        if len(self.s2)==0:\n",
    "            for i in self.s1:\n",
    "                self.s2.append(i)\n",
    "        temp = self.s2.pop(0)\n",
    "        return temp\n",
    "    def peek(self) -> int:\n",
    "        if len(self.s2)==0:\n",
    "            for i in self.s1:\n",
    "                self.s2.append(i)\n",
    "        return self.s2[0]\n",
    "\n",
    "    def empty(self) -> bool:\n",
    "        if len(self.s1) and len(self.s2) == 0:\n",
    "            return True\n",
    "        else:\n",
    "            return False\n",
    "        \n",
    "\n",
    "\n",
    "# Your MyQueue object will be instantiated and called as such:\n",
    "obj = MyQueue()\n",
    "obj.push(1)\n",
    "obj.push(2)\n",
    "obj.push(3)\n",
    "obj.push(4)\n",
    "param_2 = obj.pop()\n",
    "param_3 = obj.peek()\n",
    "param_4 = obj.empty()"
   ]
  },
  {
   "cell_type": "code",
   "execution_count": 38,
   "id": "02ed9ee1",
   "metadata": {},
   "outputs": [
    {
     "name": "stdout",
     "output_type": "stream",
     "text": [
      "1 2 False\n"
     ]
    }
   ],
   "source": [
    "print(param_2,param_3,param_4)"
   ]
  },
  {
   "cell_type": "code",
   "execution_count": 39,
   "id": "614b4edb",
   "metadata": {},
   "outputs": [
    {
     "data": {
      "text/plain": [
       "False"
      ]
     },
     "execution_count": 39,
     "metadata": {},
     "output_type": "execute_result"
    }
   ],
   "source": [
    "obj2 = MyQueue()\n",
    "obj2.empty()"
   ]
  },
  {
   "cell_type": "code",
   "execution_count": null,
   "id": "481793e6",
   "metadata": {},
   "outputs": [],
   "source": [
    "class MovingAverage:\n",
    "    def __init__(self, size: int):\n",
    "        self.size = size  # Window ka size store karenge\n",
    "        self.queue = []   # Numbers rakhne ke liye list (ya queue)\n",
    "\n",
    "    def next(self, val: int) -> float:\n",
    "        # Yahan logic likhna hai\n",
    "        self.queue.append(val)\n",
    "        n = len(self.queue)\n",
    "        if n>self.size:\n",
    "            self.queue.pop(0)\n",
    "            n = len(self.queue)\n",
    "        sum = 0\n",
    "        for i in self.queue:\n",
    "            sum +=i\n",
    "        return sum/n"
   ]
  },
  {
   "cell_type": "code",
   "execution_count": 49,
   "id": "1b72e9b5",
   "metadata": {},
   "outputs": [],
   "source": [
    "obj = MovingAverage(3)"
   ]
  },
  {
   "cell_type": "code",
   "execution_count": 50,
   "id": "3f4917a1",
   "metadata": {},
   "outputs": [],
   "source": [
    "avg1 = obj.next(1)\n",
    "avg2 = obj.next(10)\n",
    "avg3 = obj.next(3)\n",
    "avg4 = obj.next(5)"
   ]
  },
  {
   "cell_type": "code",
   "execution_count": 51,
   "id": "0446ddfe",
   "metadata": {},
   "outputs": [
    {
     "name": "stdout",
     "output_type": "stream",
     "text": [
      "1.0 5.5 4.666666666666667 6.0\n"
     ]
    }
   ],
   "source": [
    "print(avg1,avg2,avg3,avg4)"
   ]
  },
  {
   "cell_type": "code",
   "execution_count": 84,
   "id": "cb3bb3be",
   "metadata": {},
   "outputs": [],
   "source": [
    "class MyCircularQueue:\n",
    "\n",
    "    def __init__(self, k: int):\n",
    "        self.size = k\n",
    "        self.queue = []\n",
    "\n",
    "    def enQueue(self, value: int) -> bool:\n",
    "        if len(self.queue)>=self.size:\n",
    "            return False\n",
    "        else:\n",
    "            self.queue.append(value)\n",
    "            return True\n",
    "\n",
    "    def deQueue(self) -> bool:\n",
    "        if len(self.queue) == 0:\n",
    "            return False\n",
    "        else:\n",
    "            self.queue.pop(0)\n",
    "            return True\n",
    "\n",
    "    def Front(self) -> int:\n",
    "        if len(self.queue) == 0:\n",
    "            return -1\n",
    "        else:\n",
    "            return self.queue[0]\n",
    "\n",
    "    def Rear(self) -> int:\n",
    "        if len(self.queue) == 0:\n",
    "            return -1\n",
    "        else:\n",
    "            return self.queue[-1]\n",
    "        \n",
    "\n",
    "    def isEmpty(self) -> bool:\n",
    "        if len(self.queue) == 0:\n",
    "            return True\n",
    "        else:\n",
    "            return False\n",
    "        \n",
    "\n",
    "    def isFull(self) -> bool:\n",
    "        if len(self.queue) == self.size:\n",
    "            return True\n",
    "        else:\n",
    "            return False\n",
    "        \n",
    "\n",
    "\n",
    "# Your MyCircularQueue object will be instantiated and called as such:\n",
    "obj = MyCircularQueue(3)\n",
    "param_a = obj.enQueue(1)\n",
    "param_b = obj.enQueue(2)\n",
    "param_c = obj.enQueue(3)\n",
    "param_d = obj.enQueue(4)\n",
    "param_2 = obj.Rear()\n",
    "param_3 = obj.isFull()\n",
    "param_4 = obj.deQueue()\n",
    "param_5 = obj.enQueue(4)\n",
    "param_6 = obj.Rear()"
   ]
  },
  {
   "cell_type": "code",
   "execution_count": 85,
   "id": "11aecf00",
   "metadata": {},
   "outputs": [
    {
     "name": "stdout",
     "output_type": "stream",
     "text": [
      "2\n",
      "3\n",
      "4\n"
     ]
    }
   ],
   "source": [
    "for i in obj.queue:\n",
    "    print(i)"
   ]
  },
  {
   "cell_type": "code",
   "execution_count": 86,
   "id": "b426e72d",
   "metadata": {},
   "outputs": [
    {
     "name": "stdout",
     "output_type": "stream",
     "text": [
      "True True True False 3 True True True 4\n"
     ]
    }
   ],
   "source": [
    "print(param_a,param_b,param_c,param_d,param_2,param_3,param_4,param_5,param_6)"
   ]
  },
  {
   "cell_type": "code",
   "execution_count": 90,
   "id": "3de08231",
   "metadata": {},
   "outputs": [],
   "source": [
    "class MyCircularDeque:\n",
    "\n",
    "    def __init__(self, k: int):\n",
    "        self.size = k\n",
    "        self.dqueue = []\n",
    "\n",
    "    def insertFront(self, value: int) -> bool:\n",
    "        if len(self.dqueue)>=self.size:\n",
    "            return False\n",
    "        if len(self.dqueue)<self.size: \n",
    "            self.dqueue.insert(0,value)\n",
    "            return True\n",
    "        else: return False\n",
    "\n",
    "\n",
    "    def insertLast(self, value: int) -> bool:\n",
    "        if len(self.dqueue)>=self.size:\n",
    "            return False\n",
    "        if len(self.dqueue)<=self.size: \n",
    "            self.dqueue.append(value)\n",
    "            return True\n",
    "        else: return False\n",
    "        \n",
    "\n",
    "    def deleteFront(self) -> bool:\n",
    "        if len(self.dqueue)==0:\n",
    "            return False \n",
    "        else:\n",
    "            self.dqueue.pop(0)\n",
    "            return True\n",
    "        \n",
    "\n",
    "    def deleteLast(self) -> bool:\n",
    "        if len(self.dqueue)==0:\n",
    "            return False \n",
    "        else:\n",
    "            self.dqueue.pop(-1)\n",
    "            return True\n",
    "        \n",
    "\n",
    "    def getFront(self) -> int:\n",
    "        if len(self.dqueue)==0:\n",
    "            return -1 \n",
    "        else:\n",
    "            return self.dqueue[0]\n",
    "        \n",
    "\n",
    "    def getRear(self) -> int:\n",
    "        if len(self.dqueue)==0:\n",
    "            return -1 \n",
    "        else:\n",
    "            return self.dqueue[-1]\n",
    "        \n",
    "\n",
    "    def isEmpty(self) -> bool:\n",
    "        if len(self.dqueue)==0:\n",
    "            return True \n",
    "        else:\n",
    "            return False\n",
    "        \n",
    "\n",
    "    def isFull(self) -> bool:\n",
    "        if len(self.dqueue) == self.size:\n",
    "            return True\n",
    "        else:\n",
    "            return False\n",
    "        \n",
    "\n",
    "\n",
    "# Your MyCircularDeque object will be instantiated and called as such:\n",
    "obj = MyCircularDeque(3)\n",
    "param_1 = obj.insertLast(1)\n",
    "param_2 = obj.insertLast(2)\n",
    "param_3 = obj.insertFront(3)\n",
    "param_4 = obj.insertFront(4)\n",
    "param_5 = obj.getRear()\n",
    "param_6 = obj.isFull()\n",
    "param_7 = obj.deleteLast()\n",
    "param_8 = obj.insertFront(4)\n",
    "param_9 = obj.getFront()"
   ]
  },
  {
   "cell_type": "code",
   "execution_count": 91,
   "id": "ab888f99",
   "metadata": {},
   "outputs": [
    {
     "name": "stdout",
     "output_type": "stream",
     "text": [
      "True True True False 2 True True True 4\n"
     ]
    }
   ],
   "source": [
    "print(param_1,param_2,param_3,param_4,param_5,param_6,param_7,param_8,param_9)"
   ]
  },
  {
   "cell_type": "code",
   "execution_count": null,
   "id": "767db517",
   "metadata": {},
   "outputs": [],
   "source": []
  }
 ],
 "metadata": {
  "kernelspec": {
   "display_name": "venv",
   "language": "python",
   "name": "python3"
  },
  "language_info": {
   "codemirror_mode": {
    "name": "ipython",
    "version": 3
   },
   "file_extension": ".py",
   "mimetype": "text/x-python",
   "name": "python",
   "nbconvert_exporter": "python",
   "pygments_lexer": "ipython3",
   "version": "3.13.2"
  }
 },
 "nbformat": 4,
 "nbformat_minor": 5
}
