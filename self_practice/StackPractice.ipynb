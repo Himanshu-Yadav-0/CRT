{
 "cells": [
  {
   "cell_type": "code",
   "execution_count": null,
   "id": "20ed5499",
   "metadata": {},
   "outputs": [
    {
     "name": "stdout",
     "output_type": "stream",
     "text": [
      "-1 -1 4 "
     ]
    }
   ],
   "source": [
    "\n",
    "def nextGreaterElement(nums1: list[int], nums2: list[int]) -> list[int]:\n",
    "    nge_map = {}\n",
    "    stack = []\n",
    "    for i in nums2:\n",
    "        while stack and stack[-1]<i:\n",
    "            stack.pop()\n",
    "        nge_map[i] = stack[-1] if stack else -1\n",
    "        stack.append(i)\n",
    "    result = []\n",
    "    for i in nums1:\n",
    "        result.append(nge_map.get(i))\n",
    "    return result\n",
    "        \n",
    "\n",
    "\n",
    "nums1 = [4,1,2]\n",
    "nums2 = [1,3,4,2]\n",
    "result = nextGreaterElement(nums1,nums2)\n",
    "for i in result:\n",
    "    print(i,end=\" \")\n"
   ]
  },
  {
   "cell_type": "code",
   "execution_count": null,
   "id": "480c65e2",
   "metadata": {},
   "outputs": [
    {
     "name": "stdout",
     "output_type": "stream",
     "text": [
      "-1 -1 4 "
     ]
    }
   ],
   "source": []
  },
  {
   "cell_type": "code",
   "execution_count": null,
   "id": "3f2a7250",
   "metadata": {},
   "outputs": [],
   "source": []
  }
 ],
 "metadata": {
  "kernelspec": {
   "display_name": "venv",
   "language": "python",
   "name": "python3"
  },
  "language_info": {
   "codemirror_mode": {
    "name": "ipython",
    "version": 3
   },
   "file_extension": ".py",
   "mimetype": "text/x-python",
   "name": "python",
   "nbconvert_exporter": "python",
   "pygments_lexer": "ipython3",
   "version": "3.13.2"
  }
 },
 "nbformat": 4,
 "nbformat_minor": 5
}
