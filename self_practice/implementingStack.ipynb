{
 "cells": [
  {
   "cell_type": "code",
   "execution_count": 1,
   "id": "952a2b98",
   "metadata": {},
   "outputs": [],
   "source": [
    "class Node:\n",
    "    def __init__(self,value):\n",
    "        self.data=value\n",
    "        self.next = None"
   ]
  },
  {
   "cell_type": "markdown",
   "id": "0dd7b360",
   "metadata": {},
   "source": [
    "# Stack implementation using Linked list"
   ]
  },
  {
   "cell_type": "code",
   "execution_count": 40,
   "id": "0a2af68e",
   "metadata": {},
   "outputs": [],
   "source": [
    "class Stack:\n",
    "    def __init__(self):\n",
    "        self.top = None\n",
    "    \n",
    "    def isempty(self):\n",
    "        return self.top == None \n",
    "    \n",
    "    def push(self,value):\n",
    "        new_node = Node(value)\n",
    "        new_node.next = self.top\n",
    "        self.top = new_node\n",
    "    def traverse(self):\n",
    "        temp = self.top\n",
    "        while temp!=None:\n",
    "            print(temp.data,end=\" \")\n",
    "            temp = temp.next\n",
    "    def peek(self):\n",
    "        if self.isempty():\n",
    "            return \"Stack is Empty\"\n",
    "        else:\n",
    "            return self.top.data\n",
    "    def pop(self):\n",
    "        if self.isempty():\n",
    "            return \"Stack is Empty\"\n",
    "        else:\n",
    "            temp = self.top.data\n",
    "            self.top = self.top.next\n",
    "            return temp"
   ]
  },
  {
   "cell_type": "code",
   "execution_count": 41,
   "id": "85af2bd7",
   "metadata": {},
   "outputs": [],
   "source": [
    "s = Stack()"
   ]
  },
  {
   "cell_type": "code",
   "execution_count": 42,
   "id": "b37c939a",
   "metadata": {},
   "outputs": [
    {
     "data": {
      "text/plain": [
       "True"
      ]
     },
     "execution_count": 42,
     "metadata": {},
     "output_type": "execute_result"
    }
   ],
   "source": [
    "s.isempty()"
   ]
  },
  {
   "cell_type": "code",
   "execution_count": 43,
   "id": "29a84ea0",
   "metadata": {},
   "outputs": [],
   "source": [
    "s.push(2)"
   ]
  },
  {
   "cell_type": "code",
   "execution_count": 44,
   "id": "42d6c652",
   "metadata": {},
   "outputs": [
    {
     "data": {
      "text/plain": [
       "False"
      ]
     },
     "execution_count": 44,
     "metadata": {},
     "output_type": "execute_result"
    }
   ],
   "source": [
    "s.isempty()"
   ]
  },
  {
   "cell_type": "code",
   "execution_count": 45,
   "id": "504ea1ee",
   "metadata": {},
   "outputs": [],
   "source": [
    "s.push(3)\n",
    "s.push(5)\n",
    "s.push(4)"
   ]
  },
  {
   "cell_type": "code",
   "execution_count": 46,
   "id": "dc90a39b",
   "metadata": {},
   "outputs": [
    {
     "name": "stdout",
     "output_type": "stream",
     "text": [
      "4 5 3 2 "
     ]
    }
   ],
   "source": [
    "s.traverse()"
   ]
  },
  {
   "cell_type": "code",
   "execution_count": 47,
   "id": "cef14f5a",
   "metadata": {},
   "outputs": [
    {
     "data": {
      "text/plain": [
       "4"
      ]
     },
     "execution_count": 47,
     "metadata": {},
     "output_type": "execute_result"
    }
   ],
   "source": [
    "s.peek()"
   ]
  },
  {
   "cell_type": "code",
   "execution_count": 48,
   "id": "e35cb33c",
   "metadata": {},
   "outputs": [
    {
     "data": {
      "text/plain": [
       "4"
      ]
     },
     "execution_count": 48,
     "metadata": {},
     "output_type": "execute_result"
    }
   ],
   "source": [
    "s.pop()"
   ]
  },
  {
   "cell_type": "code",
   "execution_count": 49,
   "id": "ffe8f75b",
   "metadata": {},
   "outputs": [
    {
     "data": {
      "text/plain": [
       "5"
      ]
     },
     "execution_count": 49,
     "metadata": {},
     "output_type": "execute_result"
    }
   ],
   "source": [
    "s.peek()"
   ]
  },
  {
   "cell_type": "markdown",
   "id": "70c6334b",
   "metadata": {},
   "source": [
    "# Stack Question"
   ]
  },
  {
   "cell_type": "code",
   "execution_count": 58,
   "id": "0b9119e6",
   "metadata": {},
   "outputs": [
    {
     "name": "stdout",
     "output_type": "stream",
     "text": [
      "olleh\n"
     ]
    }
   ],
   "source": [
    "str = \"hello\"\n",
    "stk = Stack()\n",
    "for i in str:\n",
    "    stk.push(i)\n",
    "res = \"\"\n",
    "while not stk.isempty():\n",
    "    res +=stk.pop()\n",
    "print(res)"
   ]
  },
  {
   "cell_type": "code",
   "execution_count": 63,
   "id": "ec0f5c9f",
   "metadata": {},
   "outputs": [],
   "source": [
    "def text_editor(str,pattern):\n",
    "    u = Stack()\n",
    "    r = Stack()\n",
    "    res=\"\"\n",
    "    for i in str:\n",
    "        u.push(i)\n",
    "    for i in pattern:\n",
    "        if i ==\"u\":\n",
    "            r.push(u.pop())\n",
    "        else:\n",
    "            u.push(r.pop())\n",
    "    while not u.isempty():\n",
    "        res = u.pop()+res\n",
    "    print(res)  \n"
   ]
  },
  {
   "cell_type": "code",
   "execution_count": 69,
   "id": "64442396",
   "metadata": {},
   "outputs": [
    {
     "name": "stdout",
     "output_type": "stream",
     "text": [
      "Himanshu\n"
     ]
    }
   ],
   "source": [
    "text_editor(\"Himanshu\",\"uuuuurrrrr\")"
   ]
  },
  {
   "cell_type": "markdown",
   "id": "ac63a132",
   "metadata": {},
   "source": [
    "# Stack implementation using Array/Python List\n"
   ]
  },
  {
   "cell_type": "code",
   "execution_count": 148,
   "id": "faed8e64",
   "metadata": {},
   "outputs": [],
   "source": [
    "class Stack:\n",
    "    def __init__(self,size):\n",
    "        self.size = size\n",
    "        self.__stack = [None]*self.size\n",
    "        self.top = -1\n",
    "    def push(self,value):\n",
    "        if self.top == self.size-1:\n",
    "            return \"Overflow\"\n",
    "        else:\n",
    "            self.top+=1\n",
    "            self.stack[self.top]=value\n",
    "    def pop(self):\n",
    "        if self.top ==-1:\n",
    "            return \"Empty\"\n",
    "        else:\n",
    "            temp = self.stack[self.top]\n",
    "            self.top -=1\n",
    "            return temp\n",
    "    def traverse(self):\n",
    "        for i in range(self.top + 1):\n",
    "            print(self.stack[i],end=\" \")"
   ]
  },
  {
   "cell_type": "code",
   "execution_count": 149,
   "id": "9e988b0f",
   "metadata": {},
   "outputs": [],
   "source": [
    "s = Stack(3)"
   ]
  },
  {
   "cell_type": "code",
   "execution_count": 150,
   "id": "b54d210e",
   "metadata": {},
   "outputs": [
    {
     "ename": "AttributeError",
     "evalue": "'Stack' object has no attribute 'stack'",
     "output_type": "error",
     "traceback": [
      "\u001b[31m---------------------------------------------------------------------------\u001b[39m",
      "\u001b[31mAttributeError\u001b[39m                            Traceback (most recent call last)",
      "\u001b[36mCell\u001b[39m\u001b[36m \u001b[39m\u001b[32mIn[150]\u001b[39m\u001b[32m, line 1\u001b[39m\n\u001b[32m----> \u001b[39m\u001b[32m1\u001b[39m \u001b[43ms\u001b[49m\u001b[43m.\u001b[49m\u001b[43mstack\u001b[49m\n",
      "\u001b[31mAttributeError\u001b[39m: 'Stack' object has no attribute 'stack'"
     ]
    }
   ],
   "source": [
    "s.stack"
   ]
  },
  {
   "cell_type": "code",
   "execution_count": 145,
   "id": "7edbe8e2",
   "metadata": {},
   "outputs": [
    {
     "data": {
      "text/plain": [
       "'Overflow'"
      ]
     },
     "execution_count": 145,
     "metadata": {},
     "output_type": "execute_result"
    }
   ],
   "source": [
    "s.push(5)"
   ]
  },
  {
   "cell_type": "code",
   "execution_count": 140,
   "id": "e94b7864",
   "metadata": {},
   "outputs": [
    {
     "data": {
      "text/plain": [
       "5"
      ]
     },
     "execution_count": 140,
     "metadata": {},
     "output_type": "execute_result"
    }
   ],
   "source": [
    "s.pop()"
   ]
  },
  {
   "cell_type": "code",
   "execution_count": 147,
   "id": "593fbdbc",
   "metadata": {},
   "outputs": [
    {
     "name": "stdout",
     "output_type": "stream",
     "text": [
      "5 5 5 "
     ]
    }
   ],
   "source": [
    "s.traverse()"
   ]
  },
  {
   "cell_type": "code",
   "execution_count": null,
   "id": "4066e86e",
   "metadata": {},
   "outputs": [],
   "source": []
  }
 ],
 "metadata": {
  "kernelspec": {
   "display_name": "venv",
   "language": "python",
   "name": "python3"
  },
  "language_info": {
   "codemirror_mode": {
    "name": "ipython",
    "version": 3
   },
   "file_extension": ".py",
   "mimetype": "text/x-python",
   "name": "python",
   "nbconvert_exporter": "python",
   "pygments_lexer": "ipython3",
   "version": "3.13.2"
  }
 },
 "nbformat": 4,
 "nbformat_minor": 5
}
