{
 "cells": [
  {
   "cell_type": "code",
   "execution_count": 17,
   "metadata": {},
   "outputs": [
    {
     "name": "stdout",
     "output_type": "stream",
     "text": [
      "[1, 3, 12, 0, 0]\n"
     ]
    }
   ],
   "source": [
    "def moveZeroes(nums):\n",
    "        \"\"\"\n",
    "        :type nums: List[int]\n",
    "        :rtype: None Do not return anything, modify nums in-place instead.\n",
    "        \"\"\"\n",
    "        j=0\n",
    "        for i in range(len(nums)):\n",
    "            if nums[i] !=0:\n",
    "                nums[i],nums[j] = nums[j],nums[i]\n",
    "                j+=1\n",
    "        return nums\n",
    "\n",
    "nums = [0,1,0,3,12]\n",
    "print(moveZeroes(nums))"
   ]
  },
  {
   "cell_type": "code",
   "execution_count": 18,
   "metadata": {},
   "outputs": [
    {
     "name": "stdout",
     "output_type": "stream",
     "text": [
      "{1, 2, 3, 4, 5}\n"
     ]
    }
   ],
   "source": [
    "lst = [1, 2, 3, 2, 4, 1, 5]\n",
    "\n",
    "print(set(lst))"
   ]
  },
  {
   "cell_type": "code",
   "execution_count": 21,
   "metadata": {},
   "outputs": [
    {
     "name": "stdout",
     "output_type": "stream",
     "text": [
      "{1, 2, 5, 6}\n"
     ]
    }
   ],
   "source": [
    "a = [1, 2, 3, 4]\n",
    "b = [3, 4, 5, 6]\n",
    "\n",
    "set_a = set(a)\n",
    "set_b = set(b)\n",
    "common = set_a.symmetric_difference(set_b)\n",
    "print(common)"
   ]
  },
  {
   "cell_type": "code",
   "execution_count": 27,
   "metadata": {},
   "outputs": [
    {
     "name": "stdout",
     "output_type": "stream",
     "text": [
      "True\n"
     ]
    }
   ],
   "source": [
    "s1 = {1, 2, 3}\n",
    "s2 = {1, 2}\n",
    "print(s2.issubset(s1))\n",
    "\n"
   ]
  },
  {
   "cell_type": "code",
   "execution_count": 28,
   "metadata": {},
   "outputs": [
    {
     "name": "stdout",
     "output_type": "stream",
     "text": [
      "{2, 3}\n"
     ]
    }
   ],
   "source": [
    "s1 = {1, 2, 3}\n",
    "s2 = {2, 3, 4}\n",
    "s3 = {2, 5, 3}\n",
    "\n",
    "print(s1 & s2 & s3)\n",
    "\n"
   ]
  },
  {
   "cell_type": "code",
   "execution_count": 30,
   "metadata": {},
   "outputs": [
    {
     "name": "stdout",
     "output_type": "stream",
     "text": [
      "4\n"
     ]
    }
   ],
   "source": [
    "text = \"the quick brown fox the quick fox\"\n",
    "print(len(set(text.split())))\n"
   ]
  },
  {
   "cell_type": "code",
   "execution_count": 8,
   "metadata": {},
   "outputs": [
    {
     "data": {
      "text/plain": [
       "{(1, 7), (3, 5)}"
      ]
     },
     "execution_count": 8,
     "metadata": {},
     "output_type": "execute_result"
    }
   ],
   "source": [
    "lst = [1, 5, 7, 1, 3]\n",
    "target = 8\n",
    "def twoSum(lst, target):\n",
    "    seen = {}\n",
    "    result = set()\n",
    "    for i in range(len(lst)):\n",
    "        complement = target - lst[i]\n",
    "        if complement in seen:\n",
    "            result.add((min(lst[i], complement), max(lst[i], complement)))\n",
    "        seen[lst[i]] = i\n",
    "    return result\n",
    "\n",
    "\n",
    "\n",
    "twoSum(lst,target)\n",
    "        \n",
    "\n"
   ]
  },
  {
   "cell_type": "code",
   "execution_count": 26,
   "metadata": {},
   "outputs": [
    {
     "name": "stdout",
     "output_type": "stream",
     "text": [
      "1 \n",
      "1 2 \n",
      "1 2 3 \n",
      "2 \n",
      "2 3 \n",
      "3 \n"
     ]
    },
    {
     "data": {
      "text/plain": [
       "6"
      ]
     },
     "execution_count": 26,
     "metadata": {},
     "output_type": "execute_result"
    }
   ],
   "source": [
    "def printallsubarrays(arr):\n",
    "    n = len(arr)\n",
    "    max_sum = -1234567;\n",
    "    for i in range(n):\n",
    "        current_sum =0\n",
    "        for j in range(i,n):\n",
    "            current_sum+=arr[j]\n",
    "            max_sum = max(current_sum,max_sum)\n",
    "            for k in range(i,j+1):\n",
    "                print(arr[k],end=\" \")\n",
    "            print()\n",
    "    return max_sum\n",
    "\n",
    "\n",
    "printallsubarrays([1,2,3])"
   ]
  },
  {
   "cell_type": "code",
   "execution_count": null,
   "metadata": {},
   "outputs": [],
   "source": []
  }
 ],
 "metadata": {
  "kernelspec": {
   "display_name": "venv",
   "language": "python",
   "name": "python3"
  },
  "language_info": {
   "codemirror_mode": {
    "name": "ipython",
    "version": 3
   },
   "file_extension": ".py",
   "mimetype": "text/x-python",
   "name": "python",
   "nbconvert_exporter": "python",
   "pygments_lexer": "ipython3",
   "version": "3.13.2"
  }
 },
 "nbformat": 4,
 "nbformat_minor": 2
}
