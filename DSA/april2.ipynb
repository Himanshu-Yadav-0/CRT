{
 "cells": [
  {
   "cell_type": "code",
   "execution_count": 4,
   "metadata": {},
   "outputs": [
    {
     "name": "stdout",
     "output_type": "stream",
     "text": [
      "False\n"
     ]
    }
   ],
   "source": [
    "def ispal(string: str,i:int, j:int)->bool:\n",
    "    if i >= j:return True\n",
    "    return (string[i] == string[j])and ispal(string,i+1,j-1)\n",
    "\n",
    "str = \"isha\"\n",
    "print(ispal(str,0,len(str)-1))"
   ]
  },
  {
   "cell_type": "code",
   "execution_count": 10,
   "metadata": {},
   "outputs": [
    {
     "name": "stdout",
     "output_type": "stream",
     "text": [
      "5\n"
     ]
    }
   ],
   "source": [
    "def nthfibo(n:int)->int:\n",
    "    if n==0:return 0\n",
    "    if n==1: return 1\n",
    "    return nthfibo(n-1)+nthfibo(n-2)\n",
    "\n",
    "print(nthfibo(5))"
   ]
  },
  {
   "cell_type": "code",
   "execution_count": 14,
   "metadata": {},
   "outputs": [
    {
     "name": "stdout",
     "output_type": "stream",
     "text": [
      " \n",
      "c \n",
      "b \n",
      "bc \n",
      "a \n",
      "ac \n",
      "ab \n",
      "abc \n"
     ]
    }
   ],
   "source": [
    "def genallsubseq(string: str,i:int,n:int,temp: str)->None:\n",
    "    if i==n:\n",
    "        print(f\"{temp} \")\n",
    "        return\n",
    "    genallsubseq(string,i+1,n,temp)\n",
    "    genallsubseq(string,i+1,n,temp+string[i])\n",
    "\n",
    "str = \"abc\"\n",
    "temp =\"\"\n",
    "genallsubseq(str,0,len(str),temp)"
   ]
  },
  {
   "cell_type": "code",
   "execution_count": 17,
   "metadata": {},
   "outputs": [
    {
     "name": "stdout",
     "output_type": "stream",
     "text": [
      "1\n",
      "2\n",
      "2\n",
      "3\n",
      "3\n",
      "4\n",
      "4\n",
      "5\n",
      "5\n",
      "20\n"
     ]
    }
   ],
   "source": [
    "def merge(arr1,arr2):\n",
    "    i,j=0,0\n",
    "    n1,n2 = len(arr1),len(arr2)\n",
    "    arr = []\n",
    "    while i<n1 and j<n2:\n",
    "        if arr1[i] <= arr2[j]:\n",
    "            arr.append(arr1[i])\n",
    "            i+=1\n",
    "        else:\n",
    "            arr.append(arr2[j])\n",
    "            j+=1\n",
    "    while i<n1:\n",
    "        arr.append(arr1[i])\n",
    "        i+=1\n",
    "    while j<n2:\n",
    "        arr.append(arr2[j])\n",
    "        j+=1\n",
    "    return arr\n",
    "\n",
    "\n",
    "arr = merge([1,2,3,4,5],[2,3,4,5,20])\n",
    "for i in arr:\n",
    "    print(i)"
   ]
  },
  {
   "cell_type": "code",
   "execution_count": null,
   "metadata": {},
   "outputs": [],
   "source": []
  }
 ],
 "metadata": {
  "kernelspec": {
   "display_name": "venv",
   "language": "python",
   "name": "python3"
  },
  "language_info": {
   "codemirror_mode": {
    "name": "ipython",
    "version": 3
   },
   "file_extension": ".py",
   "mimetype": "text/x-python",
   "name": "python",
   "nbconvert_exporter": "python",
   "pygments_lexer": "ipython3",
   "version": "3.13.2"
  }
 },
 "nbformat": 4,
 "nbformat_minor": 2
}
