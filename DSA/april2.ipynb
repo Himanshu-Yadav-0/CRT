{
 "cells": [
  {
   "cell_type": "code",
   "execution_count": 4,
   "metadata": {},
   "outputs": [
    {
     "name": "stdout",
     "output_type": "stream",
     "text": [
      "False\n"
     ]
    }
   ],
   "source": [
    "def ispal(string: str,i:int, j:int)->bool:\n",
    "    if i >= j:return True\n",
    "    return (string[i] == string[j])and ispal(string,i+1,j-1)\n",
    "\n",
    "str = \"isha\"\n",
    "print(ispal(str,0,len(str)-1))"
   ]
  },
  {
   "cell_type": "code",
   "execution_count": 10,
   "metadata": {},
   "outputs": [
    {
     "name": "stdout",
     "output_type": "stream",
     "text": [
      "5\n"
     ]
    }
   ],
   "source": [
    "def nthfibo(n:int)->int:\n",
    "    if n==0:return 0\n",
    "    if n==1: return 1\n",
    "    return nthfibo(n-1)+nthfibo(n-2)\n",
    "\n",
    "print(nthfibo(5))"
   ]
  },
  {
   "cell_type": "code",
   "execution_count": 14,
   "metadata": {},
   "outputs": [
    {
     "name": "stdout",
     "output_type": "stream",
     "text": [
      " \n",
      "c \n",
      "b \n",
      "bc \n",
      "a \n",
      "ac \n",
      "ab \n",
      "abc \n"
     ]
    }
   ],
   "source": [
    "def genallsubseq(string: str,i:int,n:int,temp: str)->None:\n",
    "    if i==n:\n",
    "        print(f\"{temp} \")\n",
    "        return\n",
    "    genallsubseq(string,i+1,n,temp)\n",
    "    genallsubseq(string,i+1,n,temp+string[i])\n",
    "\n",
    "str = \"abc\"\n",
    "temp =\"\"\n",
    "genallsubseq(str,0,len(str),temp)"
   ]
  },
  {
   "cell_type": "code",
   "execution_count": null,
   "metadata": {},
   "outputs": [],
   "source": []
  }
 ],
 "metadata": {
  "kernelspec": {
   "display_name": "venv",
   "language": "python",
   "name": "python3"
  },
  "language_info": {
   "codemirror_mode": {
    "name": "ipython",
    "version": 3
   },
   "file_extension": ".py",
   "mimetype": "text/x-python",
   "name": "python",
   "nbconvert_exporter": "python",
   "pygments_lexer": "ipython3",
   "version": "3.13.2"
  }
 },
 "nbformat": 4,
 "nbformat_minor": 2
}
