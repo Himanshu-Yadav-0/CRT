{
 "cells": [
  {
   "cell_type": "code",
   "execution_count": 4,
   "metadata": {},
   "outputs": [
    {
     "name": "stdout",
     "output_type": "stream",
     "text": [
      "5\n"
     ]
    }
   ],
   "source": [
    "def lenofsubarraywithzerosum(arr):\n",
    "    n = len(arr)\n",
    "    sum =0\n",
    "    map = {}\n",
    "    ans=0\n",
    "    for i in range(n):\n",
    "        sum +=arr[i]\n",
    "        if sum ==0:\n",
    "            length = i+1\n",
    "            ans = max(ans,length)\n",
    "        if sum in map:\n",
    "            length = i - map[sum]\n",
    "            ans = max(length,ans)\n",
    "        else:\n",
    "            map[sum] = i\n",
    "    return ans\n",
    "\n",
    "\n",
    "arr = [1,4,-1,-3,1,-1]\n",
    "print(lenofsubarraywithzerosum(arr))"
   ]
  },
  {
   "cell_type": "code",
   "execution_count": 7,
   "metadata": {},
   "outputs": [
    {
     "name": "stdout",
     "output_type": "stream",
     "text": [
      "5\n"
     ]
    }
   ],
   "source": [
    "def lenofsubarraywithDsum(arr,d):\n",
    "    n = len(arr)\n",
    "    sum =0\n",
    "    map = {}\n",
    "    ans=0\n",
    "    for i in range(n):\n",
    "        sum +=arr[i]\n",
    "        if sum ==d:\n",
    "            length = i+1\n",
    "            ans = max(ans,length)\n",
    "        if sum-d in map:\n",
    "            length = i - map[sum-d]\n",
    "            ans = max(length,ans)\n",
    "        else:\n",
    "            map[sum] = i\n",
    "    return ans\n",
    "\n",
    "\n",
    "arr = [1,4,-1,-3,1,-1]\n",
    "print(lenofsubarraywithDsum(arr,0))"
   ]
  },
  {
   "cell_type": "code",
   "execution_count": 12,
   "metadata": {},
   "outputs": [
    {
     "name": "stdout",
     "output_type": "stream",
     "text": [
      "5\n"
     ]
    }
   ],
   "source": [
    "def noOfSubarrayWithZeroSum(arr):\n",
    "    n = len(arr)\n",
    "    ans =0\n",
    "    map = {}\n",
    "    sum =0\n",
    "    for i in range(n):\n",
    "        sum+=arr[i]\n",
    "        if sum ==0:\n",
    "            ans +=1\n",
    "        if sum in map:\n",
    "            ans = ans+map[sum]\n",
    "        map[sum] = map.get(sum,0)+1\n",
    "    return ans\n",
    "\n",
    "\n",
    "arr = [5,6,7,8,9,-9,-8,-7,-6,-5]\n",
    "print(noOfSubarrayWithZeroSum(arr))"
   ]
  },
  {
   "cell_type": "code",
   "execution_count": null,
   "metadata": {},
   "outputs": [],
   "source": [
    "def _1_to_n(n):\n",
    "    if(n<=0): return\n",
    "    _1_to_n(n-1)\n",
    "    print(n)\n",
    "\n",
    "_1_to_n(40)"
   ]
  },
  {
   "cell_type": "code",
   "execution_count": 22,
   "metadata": {},
   "outputs": [],
   "source": [
    "def sumofDigits(n):\n",
    "    sum=0\n",
    "    if n ==0:return 0\n",
    "    sum += sumofDigits(n-1)\n",
    "    print(sum)\n",
    "    "
   ]
  },
  {
   "cell_type": "code",
   "execution_count": 23,
   "metadata": {},
   "outputs": [
    {
     "name": "stdout",
     "output_type": "stream",
     "text": [
      "0\n"
     ]
    },
    {
     "ename": "TypeError",
     "evalue": "unsupported operand type(s) for +=: 'int' and 'NoneType'",
     "output_type": "error",
     "traceback": [
      "\u001b[31m---------------------------------------------------------------------------\u001b[39m",
      "\u001b[31mTypeError\u001b[39m                                 Traceback (most recent call last)",
      "\u001b[36mCell\u001b[39m\u001b[36m \u001b[39m\u001b[32mIn[23]\u001b[39m\u001b[32m, line 1\u001b[39m\n\u001b[32m----> \u001b[39m\u001b[32m1\u001b[39m \u001b[43msumofDigits\u001b[49m\u001b[43m(\u001b[49m\u001b[32;43m10\u001b[39;49m\u001b[43m)\u001b[49m\n",
      "\u001b[36mCell\u001b[39m\u001b[36m \u001b[39m\u001b[32mIn[22]\u001b[39m\u001b[32m, line 4\u001b[39m, in \u001b[36msumofDigits\u001b[39m\u001b[34m(n)\u001b[39m\n\u001b[32m      2\u001b[39m \u001b[38;5;28msum\u001b[39m=\u001b[32m0\u001b[39m\n\u001b[32m      3\u001b[39m \u001b[38;5;28;01mif\u001b[39;00m n ==\u001b[32m0\u001b[39m:\u001b[38;5;28;01mreturn\u001b[39;00m \u001b[32m0\u001b[39m\n\u001b[32m----> \u001b[39m\u001b[32m4\u001b[39m \u001b[38;5;28msum\u001b[39m += \u001b[43msumofDigits\u001b[49m\u001b[43m(\u001b[49m\u001b[43mn\u001b[49m\u001b[43m-\u001b[49m\u001b[32;43m1\u001b[39;49m\u001b[43m)\u001b[49m\n\u001b[32m      5\u001b[39m \u001b[38;5;28mprint\u001b[39m(\u001b[38;5;28msum\u001b[39m)\n",
      "\u001b[36mCell\u001b[39m\u001b[36m \u001b[39m\u001b[32mIn[22]\u001b[39m\u001b[32m, line 4\u001b[39m, in \u001b[36msumofDigits\u001b[39m\u001b[34m(n)\u001b[39m\n\u001b[32m      2\u001b[39m \u001b[38;5;28msum\u001b[39m=\u001b[32m0\u001b[39m\n\u001b[32m      3\u001b[39m \u001b[38;5;28;01mif\u001b[39;00m n ==\u001b[32m0\u001b[39m:\u001b[38;5;28;01mreturn\u001b[39;00m \u001b[32m0\u001b[39m\n\u001b[32m----> \u001b[39m\u001b[32m4\u001b[39m \u001b[38;5;28msum\u001b[39m += \u001b[43msumofDigits\u001b[49m\u001b[43m(\u001b[49m\u001b[43mn\u001b[49m\u001b[43m-\u001b[49m\u001b[32;43m1\u001b[39;49m\u001b[43m)\u001b[49m\n\u001b[32m      5\u001b[39m \u001b[38;5;28mprint\u001b[39m(\u001b[38;5;28msum\u001b[39m)\n",
      "    \u001b[31m[... skipping similar frames: sumofDigits at line 4 (6 times)]\u001b[39m\n",
      "\u001b[36mCell\u001b[39m\u001b[36m \u001b[39m\u001b[32mIn[22]\u001b[39m\u001b[32m, line 4\u001b[39m, in \u001b[36msumofDigits\u001b[39m\u001b[34m(n)\u001b[39m\n\u001b[32m      2\u001b[39m \u001b[38;5;28msum\u001b[39m=\u001b[32m0\u001b[39m\n\u001b[32m      3\u001b[39m \u001b[38;5;28;01mif\u001b[39;00m n ==\u001b[32m0\u001b[39m:\u001b[38;5;28;01mreturn\u001b[39;00m \u001b[32m0\u001b[39m\n\u001b[32m----> \u001b[39m\u001b[32m4\u001b[39m \u001b[38;5;28;43msum\u001b[39;49m\u001b[43m \u001b[49m\u001b[43m+\u001b[49m\u001b[43m=\u001b[49m\u001b[43m \u001b[49m\u001b[43msumofDigits\u001b[49m\u001b[43m(\u001b[49m\u001b[43mn\u001b[49m\u001b[43m-\u001b[49m\u001b[32;43m1\u001b[39;49m\u001b[43m)\u001b[49m\n\u001b[32m      5\u001b[39m \u001b[38;5;28mprint\u001b[39m(\u001b[38;5;28msum\u001b[39m)\n",
      "\u001b[31mTypeError\u001b[39m: unsupported operand type(s) for +=: 'int' and 'NoneType'"
     ]
    }
   ],
   "source": [
    "sumofDigits(10)"
   ]
  },
  {
   "cell_type": "code",
   "execution_count": 33,
   "metadata": {},
   "outputs": [
    {
     "name": "stdout",
     "output_type": "stream",
     "text": [
      "palindrome nhi h dhobi\n"
     ]
    }
   ],
   "source": [
    "def palindrom(str):\n",
    "    n = len(str)\n",
    "    ispalindrome = False\n",
    "    for i in range(n):\n",
    "        if str[i] == str[n-i-1]:\n",
    "            ispalindrome= True\n",
    "        else:\n",
    "            ispalindrome=False\n",
    "    if ispalindrome:\n",
    "        print(\"palindrome h dhobi\")\n",
    "    else:\n",
    "        print(\"palindrome nhi h dhobi\")\n",
    "\n",
    "palindrom(\"abcdef\")"
   ]
  },
  {
   "cell_type": "code",
   "execution_count": null,
   "metadata": {},
   "outputs": [],
   "source": []
  }
 ],
 "metadata": {
  "kernelspec": {
   "display_name": "venv",
   "language": "python",
   "name": "python3"
  },
  "language_info": {
   "codemirror_mode": {
    "name": "ipython",
    "version": 3
   },
   "file_extension": ".py",
   "mimetype": "text/x-python",
   "name": "python",
   "nbconvert_exporter": "python",
   "pygments_lexer": "ipython3",
   "version": "3.13.2"
  }
 },
 "nbformat": 4,
 "nbformat_minor": 2
}
