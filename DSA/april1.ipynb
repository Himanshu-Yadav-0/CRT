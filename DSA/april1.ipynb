{
 "cells": [
  {
   "cell_type": "code",
   "execution_count": 4,
   "metadata": {},
   "outputs": [
    {
     "name": "stdout",
     "output_type": "stream",
     "text": [
      "5\n"
     ]
    }
   ],
   "source": [
    "def lenofsubarraywithzerosum(arr):\n",
    "    n = len(arr)\n",
    "    sum =0\n",
    "    map = {}\n",
    "    ans=0\n",
    "    for i in range(n):\n",
    "        sum +=arr[i]\n",
    "        if sum ==0:\n",
    "            length = i+1\n",
    "            ans = max(ans,length)\n",
    "        if sum in map:\n",
    "            length = i - map[sum]\n",
    "            ans = max(length,ans)\n",
    "        else:\n",
    "            map[sum] = i\n",
    "    return ans\n",
    "\n",
    "\n",
    "arr = [1,4,-1,-3,1,-1]\n",
    "print(lenofsubarraywithzerosum(arr))"
   ]
  },
  {
   "cell_type": "code",
   "execution_count": 7,
   "metadata": {},
   "outputs": [
    {
     "name": "stdout",
     "output_type": "stream",
     "text": [
      "5\n"
     ]
    }
   ],
   "source": [
    "def lenofsubarraywithDsum(arr,d):\n",
    "    n = len(arr)\n",
    "    sum =0\n",
    "    map = {}\n",
    "    ans=0\n",
    "    for i in range(n):\n",
    "        sum +=arr[i]\n",
    "        if sum ==d:\n",
    "            length = i+1\n",
    "            ans = max(ans,length)\n",
    "        if sum-d in map:\n",
    "            length = i - map[sum-d]\n",
    "            ans = max(length,ans)\n",
    "        else:\n",
    "            map[sum] = i\n",
    "    return ans\n",
    "\n",
    "\n",
    "arr = [1,4,-1,-3,1,-1]\n",
    "print(lenofsubarraywithDsum(arr,0))"
   ]
  },
  {
   "cell_type": "code",
   "execution_count": null,
   "metadata": {},
   "outputs": [],
   "source": []
  }
 ],
 "metadata": {
  "kernelspec": {
   "display_name": "venv",
   "language": "python",
   "name": "python3"
  },
  "language_info": {
   "codemirror_mode": {
    "name": "ipython",
    "version": 3
   },
   "file_extension": ".py",
   "mimetype": "text/x-python",
   "name": "python",
   "nbconvert_exporter": "python",
   "pygments_lexer": "ipython3",
   "version": "3.13.2"
  }
 },
 "nbformat": 4,
 "nbformat_minor": 2
}
